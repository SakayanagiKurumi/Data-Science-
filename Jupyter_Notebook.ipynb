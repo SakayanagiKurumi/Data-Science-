{
 "cells": [
  {
   "cell_type": "markdown",
   "metadata": {
    "tags": []
   },
   "source": [
    "<center>\n",
    "    <img src=\"https://cf-courses-data.s3.us.cloud-object-storage.appdomain.cloud/IBMDeveloperSkillsNetwork-DS0105EN-SkillsNetwork/labs/Module2/images/SN_web_lightmode.png\" width=\"300\" alt=\"cognitiveclass.ai logo\"  />\n",
    "</center>\n"
   ]
  },
  {
   "cell_type": "markdown",
   "metadata": {
    "jp-MarkdownHeadingCollapsed": true,
    "tags": []
   },
   "source": [
    "#### Add your code below following the instructions given in the course\n"
   ]
  },
  {
   "cell_type": "markdown",
   "metadata": {
    "tags": []
   },
   "source": [
    "# My Jupyter Notebook on IBM Watson Studio\n"
   ]
  },
  {
   "cell_type": "markdown",
   "metadata": {
    "tags": []
   },
   "source": [
    "**Muhammad Dani Ilham Alfafa Hakim**\n",
    "\n",
    "**College Student**"
   ]
  },
  {
   "cell_type": "markdown",
   "metadata": {
    "tags": []
   },
   "source": [
    "*I'm interested in Data Science because it's brings together the domain expertise from programming, mathematics, and statistics to create insights and make sense of data. When we think about why data science is increasingly becoming important*"
   ]
  },
  {
   "cell_type": "markdown",
   "metadata": {
    "tags": []
   },
   "source": [
    "### This is a simple Fibonnaci"
   ]
  },
  {
   "cell_type": "code",
   "execution_count": 5,
   "metadata": {},
   "outputs": [
    {
     "name": "stdin",
     "output_type": "stream",
     "text": [
      "Enter the number:  21\n"
     ]
    },
    {
     "name": "stdout",
     "output_type": "stream",
     "text": [
      "6765\n"
     ]
    }
   ],
   "source": [
    "def fibonacci(n):\n",
    "    a = 0\n",
    "    b = 1\n",
    "    \n",
    "    if n < 0:\n",
    "        print(\"incorrect input\")\n",
    "    elif n == 0:\n",
    "        return a\n",
    "    elif n == 1:\n",
    "        return b\n",
    "    else:\n",
    "        for i in range(2,n):\n",
    "            c = a + b\n",
    "            a = b\n",
    "            b = c\n",
    "        return b\n",
    "    \n",
    "n = int(input(\"Enter the number: \"))\n",
    "print(fibonacci(n))"
   ]
  },
  {
   "cell_type": "markdown",
   "metadata": {
    "tags": []
   },
   "source": [
    "* Padoru Origin\n",
    "\n",
    "<table>\n",
    "    <tr>\n",
    "        <th>Name</th>\n",
    "        <th>Origin</th>\n",
    "        <th>Celebration Date</th>\n",
    "    </tr>\n",
    "    <tr>\n",
    "        <td>Padoru</td>\n",
    "        <td>Fate Extella</td>\n",
    "        <td>Every Desember</td>\n",
    "    </tr>\n",
    "</table>\n",
    "\n",
    "WordHippo states that the word padoru (パドル) is of Japanese origin, and means paddle. This is an onomatopoeic word that refers to the paddling sound that a paddle makes splashing in the water.\n",
    "\n",
    "Know Your Meme states that the word doubled, “padoru padoru,” is a Japanese onomatopoeia that refers to the clip-clopping noise a reindeer’s hoof makes when it is trotting about. The word has been “meme-ified” and in American English, is commonly used by “weeaboos” or “weebs,” fans of Japanese anime and manga, as an exclamation around the holidays, according to Urban Dictionary.\n",
    "\n",
    "The meme of the word padoru comes from the Japanese PlayStation Portable RPG (role-playing game) Fate/Extra. According to Fandom, the game was created by Type-Moon and Image Epoch, published by Marvelous Entertainment. Released in Japan in 2010 and worldwide in 2011, the game was released as part of Marvelous’ TYPE-MOONxRPG PROJECT. The game also has a manga adaptation illustrated by Robi~na and published by Kadokawa Shoten released from late 2011 to early 2014.\n",
    "\n",
    "In the game, Nero Claudius sings a parody of the Japanese version of “Jingle Bells,” a popular Christmas song. Nero is one of three servants in the game. The character ends the song loudly yelling “Padoru padoru!” The lyrics to the song are below, written in Romaji. Romaji is when Japanese characters are spelled phonetically in Roman characters, according to Mondly.\n",
    "* Padoru Lyrics\n",
    "\n",
    "Hashire sori yo\n",
    "Kaze no you ni\n",
    "Tsukimihara wo\n",
    "Padoru Padoru\n",
    "Hashire sori yo\n",
    "Kaze no you ni\n",
    "Tsukimihara wo\n",
    "Padoru Padoru\n",
    "Padoru\n",
    "Padoru\n",
    "Pado Padoru\n",
    "Padoru\n",
    "Padoru\n",
    "Pado Padoru\n",
    "Padoru\n",
    "Padoru\n",
    "Pado Padoru\n",
    "Padoru\n",
    "Padoru\n",
    "Pado Padoru\n",
    "Padoru\n",
    "Padoru\n",
    "Pado Padoru\n",
    "Padoru\n",
    "Padoru\n",
    "Pado Padoru\n",
    "Padoru\n",
    "Padoru\n",
    "Pado Padoru\n",
    "Padoru\n",
    "Padoru\n",
    "Pado Padoru\n",
    "\n",
    "* Padoru Image <img src=\"https://raw.githubusercontent.com/shadow578/Project-Padoru/master/Padoru/fate-nero-claudius.png\" alt=\"Alternative text\" />"
   ]
  },
  {
   "cell_type": "code",
   "execution_count": null,
   "metadata": {},
   "outputs": [],
   "source": []
  }
 ],
 "metadata": {
  "kernelspec": {
   "display_name": "Python",
   "language": "python",
   "name": "conda-env-python-py"
  },
  "language_info": {
   "codemirror_mode": {
    "name": "ipython",
    "version": 3
   },
   "file_extension": ".py",
   "mimetype": "text/x-python",
   "name": "python",
   "nbconvert_exporter": "python",
   "pygments_lexer": "ipython3",
   "version": "3.7.12"
  }
 },
 "nbformat": 4,
 "nbformat_minor": 4
}
